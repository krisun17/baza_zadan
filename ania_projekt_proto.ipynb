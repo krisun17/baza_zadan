{
 "cells": [
  {
   "cell_type": "code",
   "execution_count": null,
   "metadata": {},
   "outputs": [],
   "source": [
    "file_config = {\"preamble_len\": 4,\n",
    "                \"preamble_text\": \"\\documentclass{article} \\n\\usepackage{polski} \\n\\usepackage[utf8]{inputenc} \\n\\begin{document}\"}\n",
    "tasks_config = {\"Dynamika\": {\"Równia pochyła\": [{\"treść\": \"AAA\\nBBB\", \"linie\": (7,8)}]}}"
   ]
  },
  {
   "cell_type": "code",
   "execution_count": 2,
   "metadata": {},
   "outputs": [
    {
     "ename": "SyntaxError",
     "evalue": "(unicode error) 'unicodeescape' codec can't decode bytes in position 26-27: truncated \\uXXXX escape (<ipython-input-2-1ad3a9ba5ede>, line 5)",
     "output_type": "error",
     "traceback": [
      "\u001b[0;36m  File \u001b[0;32m\"<ipython-input-2-1ad3a9ba5ede>\"\u001b[0;36m, line \u001b[0;32m5\u001b[0m\n\u001b[0;31m    \"preamble_text\": \"\\documentclass{article} \\n\\usepackage{polski} \\n\\usepackage[utf8]{inputenc} \\n\\begin{document}\",\u001b[0m\n\u001b[0m                    ^\u001b[0m\n\u001b[0;31mSyntaxError\u001b[0m\u001b[0;31m:\u001b[0m (unicode error) 'unicodeescape' codec can't decode bytes in position 26-27: truncated \\uXXXX escape\n"
     ]
    }
   ],
   "source": [
    "class TasksBaseManager(object):\n",
    "    \n",
    "    def __init__(self):\n",
    "        file_config = {\"preamble_len\": 4,\n",
    "                       \"preamble_text\": \"\\documentclass{article} \\n\\usepackage{polski} \\n\\usepackage[utf8]{inputenc} \\n\\begin{document}\",\n",
    "                       \"end_text\": \" \\n \\end{document}\"}\n",
    "        tasks_config = [{\"Dynamika\": [{\"Równia pochyła\": [{\"treść\": \"AAA\\nBBB\", \"linie\": (7,8)}]}]}]\n",
    "        \n",
    "    def write_tasks_to_tex(self):\n",
    "        tex_file = self.file_config[\"preamble_text\"]\n",
    "        for section, section_tasks in self.tasks_config.items():\n",
    "            tex_file += \" \\n section\\{{0}\\}\".format(section)\n",
    "            for subsection, subsection_tasks in section_tasks.items():\n",
    "                tex_file += \" \\n subsection\\{{0}\\}\".format(subsection)\n",
    "                for task in subsection_tasks:\n",
    "                    tex_file += task[\"treść\"]\n",
    "        tex_file += self.file_config[\"end_text\"]\n",
    "        return tex_file"
   ]
  },
  {
   "cell_type": "code",
   "execution_count": 1,
   "metadata": {},
   "outputs": [
    {
     "ename": "NameError",
     "evalue": "name 'TasksBaseManager' is not defined",
     "output_type": "error",
     "traceback": [
      "\u001b[0;31m---------------------------------------------------------------------------\u001b[0m",
      "\u001b[0;31mNameError\u001b[0m                                 Traceback (most recent call last)",
      "\u001b[0;32m<ipython-input-1-e2f067a5d644>\u001b[0m in \u001b[0;36m<module>\u001b[0;34m\u001b[0m\n\u001b[0;32m----> 1\u001b[0;31m \u001b[0mtm\u001b[0m \u001b[0;34m=\u001b[0m \u001b[0mTasksBaseManager\u001b[0m\u001b[0;34m(\u001b[0m\u001b[0;34m)\u001b[0m\u001b[0;34m\u001b[0m\u001b[0;34m\u001b[0m\u001b[0m\n\u001b[0m\u001b[1;32m      2\u001b[0m \u001b[0mtm\u001b[0m\u001b[0;34m.\u001b[0m\u001b[0mwrite_tasks_to_tex\u001b[0m\u001b[0;34m(\u001b[0m\u001b[0;34m)\u001b[0m\u001b[0;34m\u001b[0m\u001b[0;34m\u001b[0m\u001b[0m\n",
      "\u001b[0;31mNameError\u001b[0m: name 'TasksBaseManager' is not defined"
     ]
    }
   ],
   "source": [
    "tm = TasksBaseManager()\n",
    "tm.write_tasks_to_tex()"
   ]
  }
 ],
 "metadata": {
  "kernelspec": {
   "display_name": "Python 3",
   "language": "python",
   "name": "python3"
  },
  "language_info": {
   "codemirror_mode": {
    "name": "ipython",
    "version": 3
   },
   "file_extension": ".py",
   "mimetype": "text/x-python",
   "name": "python",
   "nbconvert_exporter": "python",
   "pygments_lexer": "ipython3",
   "version": "3.7.1"
  }
 },
 "nbformat": 4,
 "nbformat_minor": 2
}
