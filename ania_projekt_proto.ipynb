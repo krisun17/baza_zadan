{
 "cells": [
  {
   "cell_type": "code",
   "execution_count": 2,
   "metadata": {},
   "outputs": [],
   "source": [
    "file_config = {\"preamble_len\": 4,\n",
    "                \"preamble_text\": [\"\\documentclass{article}\", \n",
    "                                  \"\\usepackage{polski}\", \n",
    "                                  \"\\usepackage[utf8]{inputenc}\", \n",
    "                                  \"\\begin{document}\"]}\n",
    "tasks_config = {\"Dynamika\": {\"Równia pochyła\": [{\"treść\": [r\"AAA \\\\\", \"BBB\"], \"linie\": (7,8)}]}}"
   ]
  },
  {
   "cell_type": "code",
   "execution_count": 49,
   "metadata": {},
   "outputs": [
    {
     "data": {
      "text/plain": [
       "[1, 2, 4, 3, 4]"
      ]
     },
     "execution_count": 49,
     "metadata": {},
     "output_type": "execute_result"
    }
   ],
   "source": [
    "a = [1,2,3,4]\n",
    "a[2:2] = [a[3]]\n",
    "a[3:3] = []\n",
    "l.insert(newindex, l.pop(oldindex))"
   ]
  },
  {
   "cell_type": "code",
   "execution_count": 52,
   "metadata": {},
   "outputs": [
    {
     "data": {
      "text/plain": [
       "[1, 4, 2, 3]"
      ]
     },
     "execution_count": 52,
     "metadata": {},
     "output_type": "execute_result"
    }
   ],
   "source": [
    "l = [x+1 for x in range(4)]\n",
    "l.insert(1, l.pop(3))\n",
    "l"
   ]
  },
  {
   "cell_type": "code",
   "execution_count": 156,
   "metadata": {},
   "outputs": [],
   "source": [
    "from copy import deepcopy\n",
    "import os\n",
    "import shutil\n",
    "from pdflatex import PDFLaTeX\n",
    "import json\n",
    "from random import randrange\n",
    "\n",
    "class Config(object):\n",
    "    root_dir = \".\"\n",
    "    task_dir = os.path.join(root_dir, \"zadania\")\n",
    "    solv_dir = os.path.join(root_dir, \"rozwiązania\")\n",
    "    file_config = {\"preamble_len\": 4,\n",
    "                   \"preamble_text\": [r\"\\documentclass{article}\", \n",
    "                                     r\"\\usepackage{polski}\", \n",
    "                                     r\"\\usepackage[utf8]{inputenc}\", \n",
    "                                     r\"\\begin{document}\"],\n",
    "                    \"end_text\": [r\"\\end{document}\"]}\n",
    "    tasks_config_file = os.path.join(root_dir, \"tasks_config.json\")\n",
    "    \n",
    "class TasksBaseManager(object):\n",
    "    \n",
    "    def __init__(self, from_file=False, from_dirs=False, from_dict=False, dct={}):\n",
    "                \n",
    "        assert from_file or from_dirs or from_dict\n",
    "        assert (from_dict == True and dct != {}) or from_dict == False\n",
    "        if from_file:\n",
    "            with open(Config.tasks_config_file, \"rb\") as f:\n",
    "                a = f.read()\n",
    "                self.tasks_config = json.loads(a)\n",
    "        else:\n",
    "            if from_dirs:\n",
    "                self.tasks_config = {}\n",
    "                self.update_config_from_dirs()\n",
    "            else:\n",
    "                self.tasks_config = dct\n",
    "        \n",
    "    def create_pdf_all(self, fn=\"zadania_wszystkie\", odir=\".\"):\n",
    "        tex_file = deepcopy(Config.file_config[\"preamble_text\"])\n",
    "        for section, section_tasks in self.tasks_config.items():\n",
    "            tex_file.append(r\"\\section{{ {0} }}\".format(section))\n",
    "            for subsection, subsection_tasks in section_tasks.items():\n",
    "                tex_file.append(r\"\\subsection{{ {0} }}\".format(subsection))\n",
    "                for i, task in enumerate(subsection_tasks):\n",
    "                    tex_file.append(r\"\\textbf{{Zadanie {0}}} \\\\\".format(i+1))\n",
    "                    tex_file += [x + r\"\\\\\" for x in task[\"treść\"]]\n",
    "        tex_file += Config.file_config[\"end_text\"]\n",
    "        fn = os.path.join(odir, fn)\n",
    "        pdfl = pdflatex.PDFLaTeX.from_binarystring(\"\\n\".join(tex_file).encode('utf-8'), fn)\n",
    "        pdf, log, cp = pdfl.create_pdf(keep_pdf_file=True)\n",
    "    \n",
    "    def create_pdf(self, tasks, fn=\"zadania\", odir=\".\"):\n",
    "        tex_file = deepcopy(Config.file_config[\"preamble_text\"])\n",
    "        for sec, section_tasks in tasks.items():\n",
    "            tex_file.append(r\"\\section{{ {0} }}\".format(sec))\n",
    "            for subsec, subsection_tasks in section_tasks.items():\n",
    "                tex_file.append(r\"\\subsection{{ {0} }}\".format(subsec))\n",
    "                for task_num in subsection_tasks:\n",
    "                    tex_file.append(r\"\\textbf{{Zadanie {0}}} \\\\\".format(task_num))\n",
    "                    tex_file += [x + r\"\\\\\" for x in self.tasks_config[sec][subsec][task_num-1][\"treść\"]]\n",
    "        tex_file += Config.file_config[\"end_text\"]\n",
    "        out_fn = os.path.join(odir, \"{0}_{1}\".format(fn, randrange(10000)))\n",
    "        pdfl = pdflatex.PDFLaTeX.from_binarystring(\"\\n\".join(tex_file).encode('utf-8'), out_fn)\n",
    "        pdf, log, cp = pdfl.create_pdf(keep_pdf_file=True)                   \n",
    "    \n",
    "    def add_task(self, sec, subsec, fn, sol_fn, num=None):\n",
    "        num -= 1\n",
    "        with open(fn, \"r\") as f:\n",
    "            content = f.readlines()\n",
    "        name = fn.split(\"/\")[-1]\n",
    "        sol_name = sol_fn.split(\"/\")[-1]\n",
    "        sec_dct = self.tasks_config.get(sec)\n",
    "        if sec_dct is None:\n",
    "            self._add_section(sec)\n",
    "        subsec_dct = self.tasks_config[sec].get(subsec)\n",
    "        if subsec_dct is None:\n",
    "            self._add_subsection(subsec)\n",
    "        if num is None:\n",
    "            self.tasks_config[sec][subsec].append({\"treść\": content, \"nazwa\": name})\n",
    "            n = len(self.tasks_config[sec][subsec])\n",
    "        else:\n",
    "            self.tasks_config[sec][subsec][num:num] = [{\"treść\": content, \"nazwa\": name}]\n",
    "            self._rename_files(Config.task_dir, sec, subsec, num)\n",
    "            self._rename_files(Config.solv_dir, sec, subsec, num)\n",
    "            n = num+1\n",
    "        task_fn = os.path.join(Config.task_dir, sec, subsec, \"{0}_{1}\".format(n, name))\n",
    "        shutil.move(fn, task_fn)\n",
    "        sol_new_fn = os.path.join(Config.solv_dir, sec, subsec, \"{0}_{1}\".format(n, sol_name))\n",
    "        shutil.move(sol_fn, sol_new_fn)\n",
    "            \n",
    "    def update_config_from_dirs(self):\n",
    "        for sec in os.listdir(Config.task_dir):\n",
    "            self.tasks_config[sec] = {}\n",
    "            for subsec in os.listdir(os.path.join(Config.task_dir, sec)):\n",
    "                self.tasks_config[sec][subsec] = []\n",
    "                tasks = os.listdir(os.path.join(Config.task_dir, sec, subsec))\n",
    "                sorted_tasks = sorted(tasks, key=self._sort_files_key)\n",
    "                for i, task in enumerate(sorted_tasks):\n",
    "                    task_fn = os.path.join(Config.task_dir, sec, subsec, task)\n",
    "                    with open(task_fn, \"r\") as f:\n",
    "                        content = f.readlines()\n",
    "                    try:\n",
    "                        num = int(task.split(\"_\")[0])\n",
    "                        name = task.split(\"_\")[1]\n",
    "                    except Exception as e:\n",
    "                        name = task.split(\"_\")[0]\n",
    "                    self.tasks_config[sec][subsec].append({\"treść\": content, \"nazwa\": name})\n",
    "                    new_fn = os.path.join(Config.task_dir, sec, subsec, \"{0}_{1}\".format(i+1, name))\n",
    "                    os.rename(task_fn, new_fn)\n",
    "        for sec in os.listdir(Config.solv_dir):\n",
    "            for subsec in os.listdir(os.path.join(Config.solv_dir, sec)):\n",
    "                solvs = os.listdir(os.path.join(Config.solv_dir, sec, subsec))\n",
    "                sorted_solvs = sorted(solvs, key=self._sort_files_key)\n",
    "                for i, solv in enumerate(sorted_solvs):\n",
    "                    solv_fn = os.path.join(Config.solv_dir, sec, subsec, solv)\n",
    "                    try:\n",
    "                        num = int(solv.split(\"_\")[0])\n",
    "                        name = solv.split(\"_\")[1]\n",
    "                    except Exception as e:\n",
    "                        name = solv.split(\"_\")[0]\n",
    "                    new_fn = os.path.join(Config.solv_dir, sec, subsec, \"{0}_{1}\".format(i+1, name))\n",
    "                    os.rename(solv_fn, new_fn)\n",
    "        self._update_cfg()\n",
    "                    \n",
    "    def rename_numbers(self, sec, subsec, old_num, new_num):\n",
    "        self.tasks_config[sec][subsec].insert(new_num-1, self.tasks_config[sec][subsec].pop(old_num-1))\n",
    "        if new_num > old_num:\n",
    "            step=-1\n",
    "            num = old_num + 1\n",
    "            max_num = new_num + 1\n",
    "        else:\n",
    "            step = 1\n",
    "            num = new_num\n",
    "            max_num = old_num\n",
    "        self._rename_files(Config.task_dir, sec, subsec, num, step=step, max_num=max_num)\n",
    "        self._rename_files(Config.solv_dir, sec, subsec, num, step=step, max_num=max_num)\n",
    "        name = self.tasks_config[sec][subsec][new_num-1][\"nazwa\"]\n",
    "        old_n = \"{0}_{1}\".format(old_num, name)\n",
    "        new_n = \"{0}_{1}\".format(new_num, name)\n",
    "        old_fn = os.path.join(Config.task_dir, sec, subsec, old_n)\n",
    "        new_fn = os.path.join(Config.task_dir, sec, subsec, new_n)\n",
    "        print(\"old: \" + old_fn)\n",
    "        print(\"new: \" + new_fn)\n",
    "        os.rename(old_fn, new_fn)\n",
    "    \n",
    "    def _update_cfg(self):\n",
    "        with open(Config.tasks_config_file, \"w\", encoding='utf8') as f:\n",
    "            json.dump(self.tasks_config, f)\n",
    "            \n",
    "    def _rename_files(self, tdir, sec, subsec, num, step=1, max_num=None):\n",
    "        for task in os.listdir(os.path.join(tdir, sec, subsec)):\n",
    "            tnr = int(task.split(\"_\")[0])\n",
    "            if tnr >= num:\n",
    "                if max_num is None or tnr < max_num:\n",
    "                    new_t = \"{0}_{1}\".format(tnr+step, task.split(\"_\")[1])\n",
    "                    old_fn = os.path.join(tdir, sec, subsec, task)\n",
    "                    new_fn = os.path.join(tdir, sec, subsec, new_t)\n",
    "                    print(\"old: \" + old_fn)\n",
    "                    print(\"new: \" + new_fn)\n",
    "                    os.rename(old_fn, new_fn)\n",
    "        \n",
    "    def _sort_files_key(self, x):\n",
    "        name = x.split(\"_\")\n",
    "        try:\n",
    "            num = int(x[0])\n",
    "        except Exception as e:\n",
    "            num = x[0]\n",
    "        return num\n",
    "    \n",
    "    def _add_section(self, sec):\n",
    "        os.makedir(os.path.join(Config.tasks_dir, sec))\n",
    "        self.tasks_config[sec] = {}\n",
    "        \n",
    "    def _add_subsection(self, sec, subsec):\n",
    "        os.makedir(os.path.join(Config.tasks_dir, sec, subsec))\n",
    "        self.tasks_config[sec][subsec] = []"
   ]
  },
  {
   "cell_type": "markdown",
   "metadata": {},
   "source": [
    "# Tests"
   ]
  },
  {
   "cell_type": "markdown",
   "metadata": {},
   "source": [
    "### write_pdf"
   ]
  },
  {
   "cell_type": "code",
   "execution_count": 106,
   "metadata": {},
   "outputs": [],
   "source": [
    "tm = TasksBaseManager(from_file=True)\n",
    "tm.create_pdf_all()"
   ]
  },
  {
   "cell_type": "markdown",
   "metadata": {},
   "source": [
    "### write tasks"
   ]
  },
  {
   "cell_type": "code",
   "execution_count": 88,
   "metadata": {},
   "outputs": [],
   "source": [
    "tm = TasksBaseManager(from_file=True)\n",
    "tm.create_pdf({\"Dynamika\": {\"Równia\": [1,2], \"Bryła\": [1]}, \"termoDynamika\": {\"Bryła termo\": [1,2]}})"
   ]
  },
  {
   "cell_type": "markdown",
   "metadata": {},
   "source": [
    "### tasks from dirs"
   ]
  },
  {
   "cell_type": "code",
   "execution_count": 157,
   "metadata": {},
   "outputs": [
    {
     "data": {
      "text/plain": [
       "{'termodynamika': {},\n",
       " 'dynamika': {'lala': [{'treść': ['fsafsfsafdgdgas\\n'], 'nazwa': 'pierr.tex'}],\n",
       "  'bryla': [{'treść': ['fdfasd\\n', 'gdsgds\\n', 'saaa\\n'], 'nazwa': 'dwa.tex'},\n",
       "   {'treść': ['fass\\n', 'dafassa\\n', 'fasfs\\n'], 'nazwa': 'pier.tex'},\n",
       "   {'treść': [], 'nazwa': 'noweee.tex'},\n",
       "   {'treść': [], 'nazwa': 'nowe.tex'}]}}"
      ]
     },
     "execution_count": 157,
     "metadata": {},
     "output_type": "execute_result"
    }
   ],
   "source": [
    "tm = TasksBaseManager(from_dirs=True)\n",
    "tm.create_pdf_all()\n",
    "tm.tasks_config"
   ]
  },
  {
   "cell_type": "markdown",
   "metadata": {},
   "source": [
    "### add task"
   ]
  },
  {
   "cell_type": "code",
   "execution_count": 130,
   "metadata": {},
   "outputs": [],
   "source": [
    "tm = TasksBaseManager(from_dirs=True)\n",
    "tm.add_task(\"dynamika\", \"bryla\", \"noweee.tex\", \"sol_noweee.tex\", 1)"
   ]
  },
  {
   "cell_type": "markdown",
   "metadata": {},
   "source": [
    "### rename tasks"
   ]
  },
  {
   "cell_type": "code",
   "execution_count": 165,
   "metadata": {},
   "outputs": [
    {
     "name": "stdout",
     "output_type": "stream",
     "text": [
      "old: ./zadania/dynamika/bryla/3_nowe.tex\n",
      "new: ./zadania/dynamika/bryla/2_nowe.tex\n",
      "old: ./zadania/dynamika/bryla/4_dwa.tex\n",
      "new: ./zadania/dynamika/bryla/3_dwa.tex\n",
      "old: ./rozwiązania/dynamika/bryla/3_pier.tex\n",
      "new: ./rozwiązania/dynamika/bryla/2_pier.tex\n",
      "old: ./rozwiązania/dynamika/bryla/4_sol\n",
      "new: ./rozwiązania/dynamika/bryla/3_sol\n",
      "old: ./zadania/dynamika/bryla/2_pier.tex\n",
      "new: ./zadania/dynamika/bryla/4_pier.tex\n"
     ]
    }
   ],
   "source": [
    "tm = TasksBaseManager(from_dirs=True)\n",
    "tm.rename_numbers(\"dynamika\", \"bryla\", 2, 4)"
   ]
  }
 ],
 "metadata": {
  "kernelspec": {
   "display_name": "Python 3",
   "language": "python",
   "name": "python3"
  },
  "language_info": {
   "codemirror_mode": {
    "name": "ipython",
    "version": 3
   },
   "file_extension": ".py",
   "mimetype": "text/x-python",
   "name": "python",
   "nbconvert_exporter": "python",
   "pygments_lexer": "ipython3",
   "version": "3.7.3"
  }
 },
 "nbformat": 4,
 "nbformat_minor": 2
}
