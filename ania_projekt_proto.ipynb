{
 "cells": [
  {
   "cell_type": "code",
   "execution_count": 2,
   "metadata": {},
   "outputs": [],
   "source": [
    "file_config = {\"preamble_len\": 4,\n",
    "                \"preamble_text\": [\"\\documentclass{article}\", \n",
    "                                  \"\\usepackage{polski}\", \n",
    "                                  \"\\usepackage[utf8]{inputenc}\", \n",
    "                                  \"\\begin{document}\"]}\n",
    "tasks_config = {\"Dynamika\": {\"Równia pochyła\": [{\"treść\": [r\"AAA \\\\\", \"BBB\"], \"linie\": (7,8)}]}}"
   ]
  },
  {
   "cell_type": "code",
   "execution_count": 1,
   "metadata": {},
   "outputs": [
    {
     "ename": "NameError",
     "evalue": "name 'l' is not defined",
     "output_type": "error",
     "traceback": [
      "\u001b[1;31m---------------------------------------------------------------------------\u001b[0m",
      "\u001b[1;31mNameError\u001b[0m                                 Traceback (most recent call last)",
      "\u001b[1;32m<ipython-input-1-c46ca26eddfa>\u001b[0m in \u001b[0;36m<module>\u001b[1;34m\u001b[0m\n\u001b[0;32m      2\u001b[0m \u001b[0ma\u001b[0m\u001b[1;33m[\u001b[0m\u001b[1;36m2\u001b[0m\u001b[1;33m:\u001b[0m\u001b[1;36m2\u001b[0m\u001b[1;33m]\u001b[0m \u001b[1;33m=\u001b[0m \u001b[1;33m[\u001b[0m\u001b[0ma\u001b[0m\u001b[1;33m[\u001b[0m\u001b[1;36m3\u001b[0m\u001b[1;33m]\u001b[0m\u001b[1;33m]\u001b[0m\u001b[1;33m\u001b[0m\u001b[1;33m\u001b[0m\u001b[0m\n\u001b[0;32m      3\u001b[0m \u001b[0ma\u001b[0m\u001b[1;33m[\u001b[0m\u001b[1;36m3\u001b[0m\u001b[1;33m:\u001b[0m\u001b[1;36m3\u001b[0m\u001b[1;33m]\u001b[0m \u001b[1;33m=\u001b[0m \u001b[1;33m[\u001b[0m\u001b[1;33m]\u001b[0m\u001b[1;33m\u001b[0m\u001b[1;33m\u001b[0m\u001b[0m\n\u001b[1;32m----> 4\u001b[1;33m \u001b[0ml\u001b[0m\u001b[1;33m.\u001b[0m\u001b[0minsert\u001b[0m\u001b[1;33m(\u001b[0m\u001b[0mnewindex\u001b[0m\u001b[1;33m,\u001b[0m \u001b[0ml\u001b[0m\u001b[1;33m.\u001b[0m\u001b[0mpop\u001b[0m\u001b[1;33m(\u001b[0m\u001b[0moldindex\u001b[0m\u001b[1;33m)\u001b[0m\u001b[1;33m)\u001b[0m\u001b[1;33m\u001b[0m\u001b[1;33m\u001b[0m\u001b[0m\n\u001b[0m",
      "\u001b[1;31mNameError\u001b[0m: name 'l' is not defined"
     ]
    }
   ],
   "source": [
    "a = [1,2,3,4]\n",
    "a[2:2] = [a[3]]\n",
    "a[3:3] = []\n",
    "l.insert(newindex, l.pop(oldindex))"
   ]
  },
  {
   "cell_type": "code",
   "execution_count": 1,
   "metadata": {},
   "outputs": [
    {
     "data": {
      "text/plain": [
       "[1, 4, 2, 3]"
      ]
     },
     "execution_count": 1,
     "metadata": {},
     "output_type": "execute_result"
    }
   ],
   "source": [
    "l = [x+1 for x in range(4)]\n",
    "l.insert(1, l.pop(3))\n",
    "l"
   ]
  },
  {
   "cell_type": "code",
   "execution_count": 3,
   "metadata": {},
   "outputs": [
    {
     "data": {
      "text/plain": [
       "'\\\\'"
      ]
     },
     "execution_count": 3,
     "metadata": {},
     "output_type": "execute_result"
    }
   ],
   "source": [
    "import os\n",
    "os.sep"
   ]
  },
  {
   "cell_type": "code",
   "execution_count": 32,
   "metadata": {},
   "outputs": [],
   "source": [
    "from copy import deepcopy\n",
    "import os\n",
    "import shutil\n",
    "import pdflatex\n",
    "import json\n",
    "import codecs\n",
    "from random import randrange\n",
    "\n",
    "class Config(object):\n",
    "    root_dir = 'C:\\\\Users\\\\User\\\\Repos\\\\baza_zadan'\n",
    "    tmp_dir = 'C:\\\\Users\\\\User\\\\Repos\\\\baza_zadan\\\\tmp'\n",
    "    task_dir = os.path.join(root_dir, \"zadania\")\n",
    "    solv_dir = os.path.join(root_dir, \"rozwiązania\")\n",
    "    file_config = {\"preamble_len\": 4,\n",
    "                   \"preamble_text\": [r\"\\documentclass{article}\", \n",
    "                                     r\"\\usepackage{polski}\", \n",
    "                                     r\"\\usepackage[utf8]{inputenc}\", \n",
    "                                     r\"\\begin{document}\"],\n",
    "                    \"end_text\": [r\"\\end{document}\"]}\n",
    "    tasks_config_file = os.path.join(root_dir, \"tasks_config.json\")\n",
    "    tsk_ext = \".tex\"\n",
    "    sol_ext = \".tex\"\n",
    "    to_clean_ext = [\".aux\", \".toc\", \".out\", \".snm\", \".log\"]\n",
    "    \n",
    "class TasksBaseManager(object):\n",
    "    \n",
    "    def __init__(self, from_file=False, from_dirs=False, from_dict=False, dct={}):\n",
    "                \n",
    "        assert from_file or from_dirs or from_dict\n",
    "        assert (from_dict == True and dct != {}) or from_dict == False\n",
    "        if from_file:\n",
    "            with open(Config.tasks_config_file, \"rb\") as f:\n",
    "                a = f.read()\n",
    "                self.tasks_config = json.loads(a)\n",
    "        else:\n",
    "            if from_dirs:\n",
    "                self.tasks_config = {}\n",
    "                self.update_config_from_dirs()\n",
    "            else:\n",
    "                self.tasks_config = dct\n",
    "        \n",
    "    def create_pdf_all(self, fn=\"zadania_wszystkie\", odir=Config.tmp_dir):\n",
    "        tex_file = deepcopy(Config.file_config[\"preamble_text\"])\n",
    "        for section, section_tasks in self.tasks_config.items():\n",
    "            tex_file.append(r\"\\section{{ {0} }}\".format(section))\n",
    "            for subsection, subsection_tasks in section_tasks.items():\n",
    "                tex_file.append(r\"\\subsection{{ {0} }}\".format(subsection))\n",
    "                for i, task in enumerate(subsection_tasks):\n",
    "                    tex_file.append(r\"\\textbf{{Zadanie {0}}} \\\\\".format(i+1))\n",
    "                    tex_file += [x + r\"\\\\\" for x in task[\"treść\"]]\n",
    "        tex_file += Config.file_config[\"end_text\"]\n",
    "        fn = os.path.join(odir, fn + Config.tsk_ext)\n",
    "        print(\"Compiling latex ...\")\n",
    "        with codecs.open(fn, \"w\", \"utf-8\") as f:\n",
    "            f.writelines(\"\\n\".join(tex_file))\n",
    "        res = os.system(\"pdflatex -output-directory={0} {1}\".format(odir, fn))\n",
    "        if res is not None:\n",
    "            print(\"DONE!\")\n",
    "        else:\n",
    "            print(\"ERROR! Check logs for details\")\n",
    "        self._clean_files(odir)\n",
    "    \n",
    "    def create_pdf(self, tasks, fn=\"zadania\", odir=Config.tmp_dir):\n",
    "        os.chdir(odir)\n",
    "        tex_file = deepcopy(Config.file_config[\"preamble_text\"])\n",
    "        for sec, section_tasks in tasks.items():\n",
    "            tex_file.append(r\"\\section{{ {0} }}\".format(sec))\n",
    "            for subsec, subsection_tasks in section_tasks.items():\n",
    "                tex_file.append(r\"\\subsection{{ {0} }}\".format(subsec))\n",
    "                for task_num in subsection_tasks:\n",
    "                    tex_file.append(r\"\\textbf{{Zadanie {0}}} \\\\\".format(task_num))\n",
    "                    tex_file += [x + r\"\\\\\" for x in self.tasks_config[sec][subsec][task_num-1][\"treść\"]]\n",
    "        tex_file += Config.file_config[\"end_text\"]\n",
    "        if fn == \"zadania\":\n",
    "            out_fn = os.path.join(odir, \"{0}_{1}{2}\".format(fn, randrange(10000), Config.tsk_ext))\n",
    "        else:\n",
    "            out_fn = os.path.join(odir, \"{0}{1}\".format(fn, Config.tsk_ext))\n",
    "        print(\"Compiling latex ...\")\n",
    "        with codecs.open(out_fn, \"w\", \"utf-8\") as f:\n",
    "            f.writelines(\"\\n\".join(tex_file))\n",
    "        res = os.system(\"pdflatex -output-directory={0} {1}\".format(odir, out_fn))\n",
    "        if res is not None:\n",
    "            print(\"DONE!\")\n",
    "        else:\n",
    "            print(\"ERROR! Check logs for details\") \n",
    "        self._clean_files(odir)\n",
    "        \n",
    "    def create_pdf_sec(self, sec, fn=\"zadania\", odir=Config.tmp_dir):\n",
    "        os.chdir(odir)\n",
    "        tex_file = deepcopy(Config.file_config[\"preamble_text\"])\n",
    "        section_tasks = self.tasks_config.get(sec)\n",
    "        if section_tasks is not None:\n",
    "            tex_file.append(r\"\\section{{ {0} }}\".format(sec))\n",
    "            for subsec, subsection_tasks in section_tasks.items():\n",
    "                tex_file.append(r\"\\subsection{{ {0} }}\".format(subsec))\n",
    "                for i, task in enumerate(subsection_tasks):\n",
    "                    tex_file.append(r\"\\textbf{{Zadanie {0}}} \\\\\".format(i+1))\n",
    "                    tex_file += [x + r\"\\\\\" for x in task[\"treść\"]]\n",
    "            tex_file += Config.file_config[\"end_text\"]\n",
    "            if fn == \"zadania\":\n",
    "                out_fn = os.path.join(odir, \"{0}_{1}_{2}{3}\".format(fn, sec, randrange(10000), Config.tsk_ext))\n",
    "            else:\n",
    "                out_fn = os.path.join(odir, \"{0}{1}\".format(fn, Config.tsk_ext))\n",
    "            print(\"Compiling latex ...\")\n",
    "            with codecs.open(out_fn, \"w\", \"utf-8\") as f:\n",
    "                f.writelines(\"\\n\".join(tex_file))\n",
    "            res = os.system(\"pdflatex -output-directory={0} {1}\".format(odir, out_fn))\n",
    "            if res is not None:\n",
    "                print(\"DONE!\")\n",
    "            else:\n",
    "                print(\"ERROR! Check logs for details\") \n",
    "            self._clean_files(odir)\n",
    "        else:\n",
    "            print(\"ERROR! Given section: {0} does not exist!\".format(sec))\n",
    "    \n",
    "    def add_task(self, sec, subsec, fn, sol_fn, num=None):\n",
    "        num -= 1\n",
    "        tfn = os.path.join(Config.root_dir, fn) + Config.tsk_ext\n",
    "        sfn = os.path.join(Config.root_dir, sol_fn) + Config.sol_ext\n",
    "        with open(tfn, \"r\") as f:\n",
    "            content = f.readlines()\n",
    "        name = fn.split(os.sep)[-1]\n",
    "        sol_name = sol_fn.split(os.sep)[-1]\n",
    "        assert name + \"-sol\" == sol_name\n",
    "        sec_dct = self.tasks_config.get(sec)\n",
    "        if sec_dct is None:\n",
    "            self._add_section(sec)\n",
    "        subsec_dct = self.tasks_config[sec].get(subsec)\n",
    "        if subsec_dct is None:\n",
    "            self._add_subsection(subsec)\n",
    "        if num is None:\n",
    "            self.tasks_config[sec][subsec].append({\"treść\": content, \"nazwa\": name})\n",
    "            n = len(self.tasks_config[sec][subsec])\n",
    "        else:\n",
    "            self.tasks_config[sec][subsec][num:num] = [{\"treść\": content, \"nazwa\": name}]\n",
    "            self._rename_files(Config.task_dir, sec, subsec, num)\n",
    "            self._rename_files(Config.solv_dir, sec, subsec, num)\n",
    "            n = num+1\n",
    "        task_fn = os.path.join(Config.task_dir, sec, subsec, \"{0}_{1}{2}\".format(n, name, Config.tsk_ext))\n",
    "        shutil.move(tfn, task_fn)\n",
    "        sol_new_fn = os.path.join(Config.solv_dir, sec, subsec, \"{0}_{1}{2}\".format(n, sol_name, Config.sol_ext))\n",
    "        shutil.move(sfn, sol_new_fn)\n",
    "            \n",
    "    def update_config_from_dirs(self):\n",
    "        for sec in os.listdir(Config.task_dir):\n",
    "            self.tasks_config[sec] = {}\n",
    "            for subsec in os.listdir(os.path.join(Config.task_dir, sec)):\n",
    "                self.tasks_config[sec][subsec] = []\n",
    "                tasks = os.listdir(os.path.join(Config.task_dir, sec, subsec))\n",
    "                sorted_tasks = sorted(tasks, key=self._sort_files_key)\n",
    "                for i, task in enumerate(sorted_tasks):\n",
    "                    task_fn = os.path.join(Config.task_dir, sec, subsec, task)\n",
    "                    with open(task_fn, \"r\") as f:\n",
    "                        content = f.readlines()\n",
    "                    try:\n",
    "                        num = int(task.split(\"_\")[0])\n",
    "                        name = task.split(\"_\")[1].split(\".\")[0]\n",
    "                    except Exception as e:\n",
    "                        name = task.split(\"_\")[0].split(\".\")[0]\n",
    "                    self.tasks_config[sec][subsec].append({\"treść\": content, \"nazwa\": name})\n",
    "                    new_fn = os.path.join(Config.task_dir, sec, subsec, \"{0}_{1}{2}\".format(i+1, name, Config.tsk_ext))\n",
    "                    os.rename(task_fn, new_fn)\n",
    "        for sec in os.listdir(Config.solv_dir):\n",
    "            for subsec in os.listdir(os.path.join(Config.solv_dir, sec)):\n",
    "                solvs = os.listdir(os.path.join(Config.solv_dir, sec, subsec))\n",
    "                sorted_solvs = sorted(solvs, key=self._sort_files_key)\n",
    "                for i, solv in enumerate(sorted_solvs):\n",
    "                    solv_fn = os.path.join(Config.solv_dir, sec, subsec, solv)\n",
    "                    try:\n",
    "                        num = int(solv.split(\"_\")[0])\n",
    "                        name = solv.split(\"_\")[1].split(\".\")[0]\n",
    "                    except Exception as e:\n",
    "                        name = solv.split(\"_\")[0].split(\".\")[0]\n",
    "                    new_fn = os.path.join(Config.solv_dir, sec, subsec, \"{0}_{1}{2}\".format(i+1, name, Config.sol_ext))\n",
    "                    os.rename(solv_fn, new_fn)\n",
    "        self._update_cfg()\n",
    "                    \n",
    "    def rename_numbers(self, sec, subsec, old_num, new_num):\n",
    "        self.tasks_config[sec][subsec].insert(new_num-1, self.tasks_config[sec][subsec].pop(old_num-1))\n",
    "        if new_num > old_num:\n",
    "            step=-1\n",
    "            num = old_num + 1\n",
    "            max_num = new_num + 1\n",
    "        else:\n",
    "            step = 1\n",
    "            num = new_num\n",
    "            max_num = old_num\n",
    "        self._rename_files(Config.task_dir, sec, subsec, num, step=step, max_num=max_num)\n",
    "        self._rename_files(Config.solv_dir, sec, subsec, num, step=step, max_num=max_num)\n",
    "        name = self.tasks_config[sec][subsec][new_num-1][\"nazwa\"]\n",
    "        old_n = \"{0}_{1}\".format(old_num, name)\n",
    "        new_n = \"{0}_{1}\".format(new_num, name)\n",
    "        old_fn = os.path.join(Config.task_dir, sec, subsec, old_n + Config.tsk_ext)\n",
    "        new_fn = os.path.join(Config.task_dir, sec, subsec, new_n + Config.sol_ext)\n",
    "        print(\"old: \" + old_fn)\n",
    "        print(\"new: \" + new_fn)\n",
    "        os.rename(old_fn, new_fn)\n",
    "        old_fn = os.path.join(Config.solv_dir, sec, subsec, old_n + \"-sol\" + Config.tsk_ext)\n",
    "        new_fn = os.path.join(Config.solv_dir, sec, subsec, new_n + \"-sol\" + Config.sol_ext)\n",
    "        print(\"old: \" + old_fn)\n",
    "        print(\"new: \" + new_fn)\n",
    "        os.rename(old_fn, new_fn)\n",
    "    \n",
    "    def _update_cfg(self):\n",
    "        with open(Config.tasks_config_file, \"w\", encoding='utf8') as f:\n",
    "            json.dump(self.tasks_config, f)\n",
    "            \n",
    "    def _rename_files(self, tdir, sec, subsec, num, step=1, max_num=None):\n",
    "        for task in os.listdir(os.path.join(tdir, sec, subsec)):\n",
    "            tnr = int(task.split(\"_\")[0])\n",
    "            if tnr >= num:\n",
    "                if max_num is None or tnr < max_num:\n",
    "                    new_t = \"{0}_{1}\".format(tnr+step, task.split(\"_\")[1])\n",
    "                    old_fn = os.path.join(tdir, sec, subsec, task)\n",
    "                    new_fn = os.path.join(tdir, sec, subsec, new_t)\n",
    "                    print(\"old: \" + old_fn)\n",
    "                    print(\"new: \" + new_fn)\n",
    "                    os.rename(old_fn, new_fn)\n",
    "        \n",
    "    def _clean_files(self, dr):\n",
    "        print(\"cleaning ...\")\n",
    "        for fn in os.listdir(dr):\n",
    "            for ext in Config.to_clean_ext:\n",
    "                if fn.endswith(ext):\n",
    "                    out_fn = os.path.join(dr, fn)\n",
    "                    print(\"Removing {0} ...\".format(fn))\n",
    "                    os.remove(out_fn)\n",
    "                    \n",
    "    def _sort_files_key(self, x):\n",
    "        name = x.split(\"_\")\n",
    "        try:\n",
    "            num = int(x[0])\n",
    "        except Exception as e:\n",
    "            num = x[0]\n",
    "        return num\n",
    "    \n",
    "    def _add_section(self, sec):\n",
    "        os.makedir(os.path.join(Config.tasks_dir, sec))\n",
    "        self.tasks_config[sec] = {}\n",
    "        \n",
    "    def _add_subsection(self, sec, subsec):\n",
    "        os.makedir(os.path.join(Config.tasks_dir, sec, subsec))\n",
    "        self.tasks_config[sec][subsec] = []"
   ]
  },
  {
   "cell_type": "code",
   "execution_count": 2,
   "metadata": {},
   "outputs": [
    {
     "data": {
      "text/plain": [
       "['C:\\\\Users\\\\User\\\\Repos\\\\baza_zadan',\n",
       " 'C:\\\\Users\\\\User\\\\Anaconda\\\\python37.zip',\n",
       " 'C:\\\\Users\\\\User\\\\Anaconda\\\\DLLs',\n",
       " 'C:\\\\Users\\\\User\\\\Anaconda\\\\lib',\n",
       " 'C:\\\\Users\\\\User\\\\Anaconda',\n",
       " '',\n",
       " 'C:\\\\Users\\\\User\\\\Anaconda\\\\lib\\\\site-packages',\n",
       " 'C:\\\\Users\\\\User\\\\Anaconda\\\\lib\\\\site-packages\\\\win32',\n",
       " 'C:\\\\Users\\\\User\\\\Anaconda\\\\lib\\\\site-packages\\\\win32\\\\lib',\n",
       " 'C:\\\\Users\\\\User\\\\Anaconda\\\\lib\\\\site-packages\\\\Pythonwin',\n",
       " 'C:\\\\Users\\\\User\\\\Anaconda\\\\lib\\\\site-packages\\\\IPython\\\\extensions',\n",
       " 'C:\\\\Users\\\\User\\\\.ipython']"
      ]
     },
     "execution_count": 2,
     "metadata": {},
     "output_type": "execute_result"
    }
   ],
   "source": [
    "import sys\n",
    "sys.path"
   ]
  },
  {
   "cell_type": "code",
   "execution_count": 24,
   "metadata": {},
   "outputs": [
    {
     "data": {
      "text/plain": [
       "0"
      ]
     },
     "execution_count": 24,
     "metadata": {},
     "output_type": "execute_result"
    }
   ],
   "source": [
    "os.getcwd()\n",
    "os.system(\"pdflatex test.tex\")"
   ]
  },
  {
   "cell_type": "markdown",
   "metadata": {},
   "source": [
    "# Tests"
   ]
  },
  {
   "cell_type": "markdown",
   "metadata": {},
   "source": [
    "### write_pdf"
   ]
  },
  {
   "cell_type": "code",
   "execution_count": 34,
   "metadata": {},
   "outputs": [
    {
     "name": "stdout",
     "output_type": "stream",
     "text": [
      "C:\\Users\\User\\Repos\\baza_zadan\n",
      "Compiling latex ...\n",
      "DONE!\n",
      "cleaning ...\n",
      "Removing zadania_wszystkie.aux ...\n",
      "Removing zadania_wszystkie.log ...\n"
     ]
    }
   ],
   "source": [
    "os.chdir(Config.root_dir)\n",
    "print(os.getcwd())\n",
    "tm = TasksBaseManager(from_file=True)\n",
    "tm.create_pdf_all()"
   ]
  },
  {
   "cell_type": "markdown",
   "metadata": {},
   "source": [
    "### write tasks"
   ]
  },
  {
   "cell_type": "code",
   "execution_count": 37,
   "metadata": {},
   "outputs": [
    {
     "name": "stdout",
     "output_type": "stream",
     "text": [
      "Compiling latex ...\n",
      "DONE!\n",
      "cleaning ...\n",
      "Removing zadania_test.aux ...\n",
      "Removing zadania_test.log ...\n"
     ]
    }
   ],
   "source": [
    "tm = TasksBaseManager(from_file=True)\n",
    "tm.create_pdf({\"dynamika\": {\"bryla\": [2], \"lala\": [1]}}, fn=\"zadania_test\")"
   ]
  },
  {
   "cell_type": "markdown",
   "metadata": {},
   "source": [
    "### tasks from section"
   ]
  },
  {
   "cell_type": "code",
   "execution_count": 38,
   "metadata": {},
   "outputs": [
    {
     "name": "stdout",
     "output_type": "stream",
     "text": [
      "Compiling latex ...\n",
      "DONE!\n",
      "cleaning ...\n",
      "Removing zadania_dynamika_3147.aux ...\n",
      "Removing zadania_dynamika_3147.log ...\n"
     ]
    }
   ],
   "source": [
    "tm = TasksBaseManager(from_file=True)\n",
    "tm.create_pdf_sec(\"dynamika\")"
   ]
  },
  {
   "cell_type": "markdown",
   "metadata": {},
   "source": [
    "### tasks from dirs"
   ]
  },
  {
   "cell_type": "code",
   "execution_count": 40,
   "metadata": {},
   "outputs": [
    {
     "name": "stdout",
     "output_type": "stream",
     "text": [
      "Compiling latex ...\n",
      "DONE!\n",
      "cleaning ...\n",
      "Removing zadania_wszystkie.aux ...\n",
      "Removing zadania_wszystkie.log ...\n"
     ]
    },
    {
     "data": {
      "text/plain": [
       "{'dynamika': {'bryla': [{'treść': ['fdfasd\\n', 'gdsgds\\n', 'saaa\\n'],\n",
       "    'nazwa': 'dwa'},\n",
       "   {'treść': ['fass\\n', 'dafassa\\n', 'fasfs\\n'], 'nazwa': 'pier'}],\n",
       "  'lala': [{'treść': ['fsafsfsafdgdgas\\n'], 'nazwa': 'pierr'}]}}"
      ]
     },
     "execution_count": 40,
     "metadata": {},
     "output_type": "execute_result"
    }
   ],
   "source": [
    "tm = TasksBaseManager(from_dirs=True)\n",
    "tm.create_pdf_all()\n",
    "tm.tasks_config"
   ]
  },
  {
   "cell_type": "markdown",
   "metadata": {},
   "source": [
    "### add task"
   ]
  },
  {
   "cell_type": "code",
   "execution_count": 42,
   "metadata": {},
   "outputs": [
    {
     "name": "stdout",
     "output_type": "stream",
     "text": [
      "old: C:\\Users\\User\\Repos\\baza_zadan\\zadania\\dynamika\\bryla\\1_dwa.tex\n",
      "new: C:\\Users\\User\\Repos\\baza_zadan\\zadania\\dynamika\\bryla\\2_dwa.tex\n",
      "old: C:\\Users\\User\\Repos\\baza_zadan\\zadania\\dynamika\\bryla\\2_pier.tex\n",
      "new: C:\\Users\\User\\Repos\\baza_zadan\\zadania\\dynamika\\bryla\\3_pier.tex\n",
      "old: C:\\Users\\User\\Repos\\baza_zadan\\rozwiązania\\dynamika\\bryla\\1_dwa-sol.tex\n",
      "new: C:\\Users\\User\\Repos\\baza_zadan\\rozwiązania\\dynamika\\bryla\\2_dwa-sol.tex\n",
      "old: C:\\Users\\User\\Repos\\baza_zadan\\rozwiązania\\dynamika\\bryla\\2_pier-sol.tex\n",
      "new: C:\\Users\\User\\Repos\\baza_zadan\\rozwiązania\\dynamika\\bryla\\3_pier-sol.tex\n"
     ]
    }
   ],
   "source": [
    "tm = TasksBaseManager(from_dirs=True)\n",
    "tm.add_task(\"dynamika\", \"bryla\", \"nowe\", \"nowe-sol\", 1)"
   ]
  },
  {
   "cell_type": "markdown",
   "metadata": {},
   "source": [
    "### rename tasks"
   ]
  },
  {
   "cell_type": "code",
   "execution_count": 43,
   "metadata": {},
   "outputs": [
    {
     "name": "stdout",
     "output_type": "stream",
     "text": [
      "old: C:\\Users\\User\\Repos\\baza_zadan\\zadania\\dynamika\\bryla\\1_nowe.tex\n",
      "new: C:\\Users\\User\\Repos\\baza_zadan\\zadania\\dynamika\\bryla\\2_nowe.tex\n",
      "old: C:\\Users\\User\\Repos\\baza_zadan\\zadania\\dynamika\\bryla\\2_dwa.tex\n",
      "new: C:\\Users\\User\\Repos\\baza_zadan\\zadania\\dynamika\\bryla\\3_dwa.tex\n",
      "old: C:\\Users\\User\\Repos\\baza_zadan\\rozwiązania\\dynamika\\bryla\\1_nowe-sol.tex\n",
      "new: C:\\Users\\User\\Repos\\baza_zadan\\rozwiązania\\dynamika\\bryla\\2_nowe-sol.tex\n",
      "old: C:\\Users\\User\\Repos\\baza_zadan\\rozwiązania\\dynamika\\bryla\\2_dwa-sol.tex\n",
      "new: C:\\Users\\User\\Repos\\baza_zadan\\rozwiązania\\dynamika\\bryla\\3_dwa-sol.tex\n",
      "old: C:\\Users\\User\\Repos\\baza_zadan\\zadania\\dynamika\\bryla\\3_pier.tex\n",
      "new: C:\\Users\\User\\Repos\\baza_zadan\\zadania\\dynamika\\bryla\\1_pier.tex\n",
      "old: C:\\Users\\User\\Repos\\baza_zadan\\rozwiązania\\dynamika\\bryla\\3_pier-sol.tex\n",
      "new: C:\\Users\\User\\Repos\\baza_zadan\\rozwiązania\\dynamika\\bryla\\1_pier-sol.tex\n"
     ]
    }
   ],
   "source": [
    "tm = TasksBaseManager(from_dirs=True)\n",
    "tm.rename_numbers(\"dynamika\", \"bryla\", 3, 1)"
   ]
  }
 ],
 "metadata": {
  "kernelspec": {
   "display_name": "Python 3",
   "language": "python",
   "name": "python3"
  },
  "language_info": {
   "codemirror_mode": {
    "name": "ipython",
    "version": 3
   },
   "file_extension": ".py",
   "mimetype": "text/x-python",
   "name": "python",
   "nbconvert_exporter": "python",
   "pygments_lexer": "ipython3",
   "version": "3.7.3"
  }
 },
 "nbformat": 4,
 "nbformat_minor": 2
}
